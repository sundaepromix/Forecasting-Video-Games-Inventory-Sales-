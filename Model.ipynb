{
 "cells": [
  {
   "cell_type": "markdown",
   "id": "8f59c649-b182-48b3-b1ee-6e062725012d",
   "metadata": {},
   "source": [
    "# Model Implementation"
   ]
  },
  {
   "cell_type": "markdown",
   "id": "71ab809d-e396-4f58-b35b-321af6970997",
   "metadata": {},
   "source": [
    "#### Management have decided to utilise the ARIMA and ETS models for the forecasting, so your Team is expected to Research, Analyse and Determine the appropriate measurements to apply to your ARIMA and ETS models and describe and analyse the errors for both models."
   ]
  },
  {
   "cell_type": "markdown",
   "id": "9170e9a3-2cda-4bd8-b7a5-22f05983f407",
   "metadata": {},
   "source": [
    "### Import the necessary libraries"
   ]
  },
  {
   "cell_type": "code",
   "execution_count": 1,
   "id": "2821385b-b46b-4782-8456-6b2b1881a1d7",
   "metadata": {},
   "outputs": [],
   "source": [
    "#Import Required Libraries\n",
    "import pandas as pd\n",
    "import numpy as np\n",
    "import seaborn as sns\n",
    "sns.set()\n",
    "import matplotlib.pyplot as plt\n",
    "from statsmodels.tsa.arima.model import ARIMA\n",
    "from statsmodels.tsa.holtwinters import ExponentialSmoothing\n",
    "from sklearn.metrics import mean_squared_error, mean_absolute_error"
   ]
  },
  {
   "cell_type": "markdown",
   "id": "8698c54c-3f59-475e-9d35-f5593e6ffa0e",
   "metadata": {},
   "source": [
    "### Load and Prepare Data"
   ]
  },
  {
   "cell_type": "code",
   "execution_count": 2,
   "id": "5510ecb1-07b1-41cf-ab92-73e7827b4a95",
   "metadata": {},
   "outputs": [
    {
     "data": {
      "text/html": [
       "<div>\n",
       "<style scoped>\n",
       "    .dataframe tbody tr th:only-of-type {\n",
       "        vertical-align: middle;\n",
       "    }\n",
       "\n",
       "    .dataframe tbody tr th {\n",
       "        vertical-align: top;\n",
       "    }\n",
       "\n",
       "    .dataframe thead th {\n",
       "        text-align: right;\n",
       "    }\n",
       "</style>\n",
       "<table border=\"1\" class=\"dataframe\">\n",
       "  <thead>\n",
       "    <tr style=\"text-align: right;\">\n",
       "      <th></th>\n",
       "      <th>Category</th>\n",
       "      <th>Month</th>\n",
       "      <th>Monthly Sales</th>\n",
       "      <th>Year</th>\n",
       "      <th>DayOfWeek</th>\n",
       "      <th>Platform</th>\n",
       "      <th>Holiday</th>\n",
       "      <th>Promotion</th>\n",
       "      <th>Quarter</th>\n",
       "    </tr>\n",
       "  </thead>\n",
       "  <tbody>\n",
       "    <tr>\n",
       "      <th>0</th>\n",
       "      <td>Sports</td>\n",
       "      <td>1</td>\n",
       "      <td>108592</td>\n",
       "      <td>2002</td>\n",
       "      <td>1</td>\n",
       "      <td>Xbox</td>\n",
       "      <td>1</td>\n",
       "      <td>0</td>\n",
       "      <td>1</td>\n",
       "    </tr>\n",
       "    <tr>\n",
       "      <th>1</th>\n",
       "      <td>RPG</td>\n",
       "      <td>2</td>\n",
       "      <td>129387</td>\n",
       "      <td>2002</td>\n",
       "      <td>4</td>\n",
       "      <td>Nintendo</td>\n",
       "      <td>0</td>\n",
       "      <td>0</td>\n",
       "      <td>1</td>\n",
       "    </tr>\n",
       "    <tr>\n",
       "      <th>2</th>\n",
       "      <td>Sports</td>\n",
       "      <td>3</td>\n",
       "      <td>114777</td>\n",
       "      <td>2002</td>\n",
       "      <td>4</td>\n",
       "      <td>PC</td>\n",
       "      <td>0</td>\n",
       "      <td>0</td>\n",
       "      <td>1</td>\n",
       "    </tr>\n",
       "    <tr>\n",
       "      <th>3</th>\n",
       "      <td>Sports</td>\n",
       "      <td>4</td>\n",
       "      <td>71738</td>\n",
       "      <td>2002</td>\n",
       "      <td>0</td>\n",
       "      <td>Nintendo</td>\n",
       "      <td>0</td>\n",
       "      <td>0</td>\n",
       "      <td>2</td>\n",
       "    </tr>\n",
       "    <tr>\n",
       "      <th>4</th>\n",
       "      <td>Simulation</td>\n",
       "      <td>5</td>\n",
       "      <td>142512</td>\n",
       "      <td>2002</td>\n",
       "      <td>2</td>\n",
       "      <td>PlayStation</td>\n",
       "      <td>0</td>\n",
       "      <td>0</td>\n",
       "      <td>2</td>\n",
       "    </tr>\n",
       "  </tbody>\n",
       "</table>\n",
       "</div>"
      ],
      "text/plain": [
       "     Category  Month  Monthly Sales  Year  DayOfWeek     Platform  Holiday  \\\n",
       "0      Sports      1         108592  2002          1         Xbox        1   \n",
       "1         RPG      2         129387  2002          4     Nintendo        0   \n",
       "2      Sports      3         114777  2002          4           PC        0   \n",
       "3      Sports      4          71738  2002          0     Nintendo        0   \n",
       "4  Simulation      5         142512  2002          2  PlayStation        0   \n",
       "\n",
       "   Promotion  Quarter  \n",
       "0          0        1  \n",
       "1          0        1  \n",
       "2          0        1  \n",
       "3          0        2  \n",
       "4          0        2  "
      ]
     },
     "execution_count": 2,
     "metadata": {},
     "output_type": "execute_result"
    }
   ],
   "source": [
    "data = pd.read_csv('clean_monthly_sales_data.csv')\n",
    "data.head()\n"
   ]
  },
  {
   "cell_type": "code",
   "execution_count": 3,
   "id": "fc69869a-c51f-4a93-b246-87472a8c21ca",
   "metadata": {},
   "outputs": [
    {
     "data": {
      "text/html": [
       "<div>\n",
       "<style scoped>\n",
       "    .dataframe tbody tr th:only-of-type {\n",
       "        vertical-align: middle;\n",
       "    }\n",
       "\n",
       "    .dataframe tbody tr th {\n",
       "        vertical-align: top;\n",
       "    }\n",
       "\n",
       "    .dataframe thead th {\n",
       "        text-align: right;\n",
       "    }\n",
       "</style>\n",
       "<table border=\"1\" class=\"dataframe\">\n",
       "  <thead>\n",
       "    <tr style=\"text-align: right;\">\n",
       "      <th></th>\n",
       "      <th>Category</th>\n",
       "      <th>Month</th>\n",
       "      <th>Monthly Sales</th>\n",
       "      <th>Year</th>\n",
       "      <th>DayOfWeek</th>\n",
       "      <th>Platform</th>\n",
       "      <th>Holiday</th>\n",
       "      <th>Promotion</th>\n",
       "      <th>Quarter</th>\n",
       "    </tr>\n",
       "    <tr>\n",
       "      <th>Date</th>\n",
       "      <th></th>\n",
       "      <th></th>\n",
       "      <th></th>\n",
       "      <th></th>\n",
       "      <th></th>\n",
       "      <th></th>\n",
       "      <th></th>\n",
       "      <th></th>\n",
       "      <th></th>\n",
       "    </tr>\n",
       "  </thead>\n",
       "  <tbody>\n",
       "    <tr>\n",
       "      <th>2002-01-01</th>\n",
       "      <td>Sports</td>\n",
       "      <td>1</td>\n",
       "      <td>108592</td>\n",
       "      <td>2002</td>\n",
       "      <td>1</td>\n",
       "      <td>Xbox</td>\n",
       "      <td>1</td>\n",
       "      <td>0</td>\n",
       "      <td>1</td>\n",
       "    </tr>\n",
       "    <tr>\n",
       "      <th>2002-02-01</th>\n",
       "      <td>RPG</td>\n",
       "      <td>2</td>\n",
       "      <td>129387</td>\n",
       "      <td>2002</td>\n",
       "      <td>4</td>\n",
       "      <td>Nintendo</td>\n",
       "      <td>0</td>\n",
       "      <td>0</td>\n",
       "      <td>1</td>\n",
       "    </tr>\n",
       "    <tr>\n",
       "      <th>2002-03-01</th>\n",
       "      <td>Sports</td>\n",
       "      <td>3</td>\n",
       "      <td>114777</td>\n",
       "      <td>2002</td>\n",
       "      <td>4</td>\n",
       "      <td>PC</td>\n",
       "      <td>0</td>\n",
       "      <td>0</td>\n",
       "      <td>1</td>\n",
       "    </tr>\n",
       "    <tr>\n",
       "      <th>2002-04-01</th>\n",
       "      <td>Sports</td>\n",
       "      <td>4</td>\n",
       "      <td>71738</td>\n",
       "      <td>2002</td>\n",
       "      <td>0</td>\n",
       "      <td>Nintendo</td>\n",
       "      <td>0</td>\n",
       "      <td>0</td>\n",
       "      <td>2</td>\n",
       "    </tr>\n",
       "    <tr>\n",
       "      <th>2002-05-01</th>\n",
       "      <td>Simulation</td>\n",
       "      <td>5</td>\n",
       "      <td>142512</td>\n",
       "      <td>2002</td>\n",
       "      <td>2</td>\n",
       "      <td>PlayStation</td>\n",
       "      <td>0</td>\n",
       "      <td>0</td>\n",
       "      <td>2</td>\n",
       "    </tr>\n",
       "  </tbody>\n",
       "</table>\n",
       "</div>"
      ],
      "text/plain": [
       "              Category  Month  Monthly Sales  Year  DayOfWeek     Platform  \\\n",
       "Date                                                                         \n",
       "2002-01-01      Sports      1         108592  2002          1         Xbox   \n",
       "2002-02-01         RPG      2         129387  2002          4     Nintendo   \n",
       "2002-03-01      Sports      3         114777  2002          4           PC   \n",
       "2002-04-01      Sports      4          71738  2002          0     Nintendo   \n",
       "2002-05-01  Simulation      5         142512  2002          2  PlayStation   \n",
       "\n",
       "            Holiday  Promotion  Quarter  \n",
       "Date                                     \n",
       "2002-01-01        1          0        1  \n",
       "2002-02-01        0          0        1  \n",
       "2002-03-01        0          0        1  \n",
       "2002-04-01        0          0        2  \n",
       "2002-05-01        0          0        2  "
      ]
     },
     "execution_count": 3,
     "metadata": {},
     "output_type": "execute_result"
    }
   ],
   "source": [
    "# Ensure Date format and set index\n",
    "data['Date'] = pd.to_datetime(data[['Year', 'Month']].assign(Day=1))\n",
    "data.set_index('Date', inplace=True)\n",
    "\n",
    "data.head()"
   ]
  },
  {
   "cell_type": "code",
   "execution_count": 4,
   "id": "2cc2effb-b91f-4ca4-b37a-253f3f862942",
   "metadata": {},
   "outputs": [],
   "source": [
    "# Aggregate Monthly Sales (if multiple entries per month exist)\n",
    "monthly_sales = data.groupby(data.index)['Monthly Sales'].sum()"
   ]
  },
  {
   "cell_type": "code",
   "execution_count": 5,
   "id": "d244d6d7-85ef-4613-9aab-760db01df5ac",
   "metadata": {},
   "outputs": [
    {
     "data": {
      "text/html": [
       "<div>\n",
       "<style scoped>\n",
       "    .dataframe tbody tr th:only-of-type {\n",
       "        vertical-align: middle;\n",
       "    }\n",
       "\n",
       "    .dataframe tbody tr th {\n",
       "        vertical-align: top;\n",
       "    }\n",
       "\n",
       "    .dataframe thead th {\n",
       "        text-align: right;\n",
       "    }\n",
       "</style>\n",
       "<table border=\"1\" class=\"dataframe\">\n",
       "  <thead>\n",
       "    <tr style=\"text-align: right;\">\n",
       "      <th></th>\n",
       "      <th>Category</th>\n",
       "      <th>Month</th>\n",
       "      <th>Monthly Sales</th>\n",
       "      <th>Year</th>\n",
       "      <th>DayOfWeek</th>\n",
       "      <th>Platform</th>\n",
       "      <th>Holiday</th>\n",
       "      <th>Promotion</th>\n",
       "      <th>Quarter</th>\n",
       "    </tr>\n",
       "    <tr>\n",
       "      <th>Date</th>\n",
       "      <th></th>\n",
       "      <th></th>\n",
       "      <th></th>\n",
       "      <th></th>\n",
       "      <th></th>\n",
       "      <th></th>\n",
       "      <th></th>\n",
       "      <th></th>\n",
       "      <th></th>\n",
       "    </tr>\n",
       "  </thead>\n",
       "  <tbody>\n",
       "    <tr>\n",
       "      <th>2002-01-01</th>\n",
       "      <td>Sports</td>\n",
       "      <td>1</td>\n",
       "      <td>108592</td>\n",
       "      <td>2002</td>\n",
       "      <td>1</td>\n",
       "      <td>Xbox</td>\n",
       "      <td>1</td>\n",
       "      <td>0</td>\n",
       "      <td>1</td>\n",
       "    </tr>\n",
       "    <tr>\n",
       "      <th>2002-02-01</th>\n",
       "      <td>RPG</td>\n",
       "      <td>2</td>\n",
       "      <td>129387</td>\n",
       "      <td>2002</td>\n",
       "      <td>4</td>\n",
       "      <td>Nintendo</td>\n",
       "      <td>0</td>\n",
       "      <td>0</td>\n",
       "      <td>1</td>\n",
       "    </tr>\n",
       "    <tr>\n",
       "      <th>2002-03-01</th>\n",
       "      <td>Sports</td>\n",
       "      <td>3</td>\n",
       "      <td>114777</td>\n",
       "      <td>2002</td>\n",
       "      <td>4</td>\n",
       "      <td>PC</td>\n",
       "      <td>0</td>\n",
       "      <td>0</td>\n",
       "      <td>1</td>\n",
       "    </tr>\n",
       "    <tr>\n",
       "      <th>2002-04-01</th>\n",
       "      <td>Sports</td>\n",
       "      <td>4</td>\n",
       "      <td>71738</td>\n",
       "      <td>2002</td>\n",
       "      <td>0</td>\n",
       "      <td>Nintendo</td>\n",
       "      <td>0</td>\n",
       "      <td>0</td>\n",
       "      <td>2</td>\n",
       "    </tr>\n",
       "    <tr>\n",
       "      <th>2002-05-01</th>\n",
       "      <td>Simulation</td>\n",
       "      <td>5</td>\n",
       "      <td>142512</td>\n",
       "      <td>2002</td>\n",
       "      <td>2</td>\n",
       "      <td>PlayStation</td>\n",
       "      <td>0</td>\n",
       "      <td>0</td>\n",
       "      <td>2</td>\n",
       "    </tr>\n",
       "  </tbody>\n",
       "</table>\n",
       "</div>"
      ],
      "text/plain": [
       "              Category  Month  Monthly Sales  Year  DayOfWeek     Platform  \\\n",
       "Date                                                                         \n",
       "2002-01-01      Sports      1         108592  2002          1         Xbox   \n",
       "2002-02-01         RPG      2         129387  2002          4     Nintendo   \n",
       "2002-03-01      Sports      3         114777  2002          4           PC   \n",
       "2002-04-01      Sports      4          71738  2002          0     Nintendo   \n",
       "2002-05-01  Simulation      5         142512  2002          2  PlayStation   \n",
       "\n",
       "            Holiday  Promotion  Quarter  \n",
       "Date                                     \n",
       "2002-01-01        1          0        1  \n",
       "2002-02-01        0          0        1  \n",
       "2002-03-01        0          0        1  \n",
       "2002-04-01        0          0        2  \n",
       "2002-05-01        0          0        2  "
      ]
     },
     "execution_count": 5,
     "metadata": {},
     "output_type": "execute_result"
    }
   ],
   "source": [
    "data.head()"
   ]
  },
  {
   "cell_type": "markdown",
   "id": "e3106916-d214-4e23-987c-8b19a8beec14",
   "metadata": {},
   "source": [
    "### Split the dataset into training and testing"
   ]
  },
  {
   "cell_type": "code",
   "execution_count": 6,
   "id": "ecee390c-0972-45d6-a59e-2c424de2fe91",
   "metadata": {},
   "outputs": [],
   "source": [
    "# Train-Test Split\n",
    "train_size = int(len(monthly_sales) * 0.8)  # 80% Training, 20% Test\n",
    "train, test = monthly_sales[:train_size], monthly_sales[train_size:]"
   ]
  },
  {
   "cell_type": "markdown",
   "id": "f8ef992c-27ef-410c-b808-19d54c09f71f",
   "metadata": {},
   "source": [
    "### ARIMA Model Fitting"
   ]
  },
  {
   "cell_type": "code",
   "execution_count": 7,
   "id": "b5140f6a-d54f-42b2-9f88-5c2d8861b242",
   "metadata": {},
   "outputs": [
    {
     "name": "stdout",
     "output_type": "stream",
     "text": [
      "Training ARIMA Model...\n"
     ]
    },
    {
     "name": "stderr",
     "output_type": "stream",
     "text": [
      "C:\\Users\\Promise Sunday\\AppData\\Local\\Programs\\Python\\Python312\\Lib\\site-packages\\statsmodels\\tsa\\base\\tsa_model.py:473: ValueWarning: No frequency information was provided, so inferred frequency MS will be used.\n",
      "  self._init_dates(dates, freq)\n",
      "C:\\Users\\Promise Sunday\\AppData\\Local\\Programs\\Python\\Python312\\Lib\\site-packages\\statsmodels\\tsa\\base\\tsa_model.py:473: ValueWarning: No frequency information was provided, so inferred frequency MS will be used.\n",
      "  self._init_dates(dates, freq)\n",
      "C:\\Users\\Promise Sunday\\AppData\\Local\\Programs\\Python\\Python312\\Lib\\site-packages\\statsmodels\\tsa\\base\\tsa_model.py:473: ValueWarning: No frequency information was provided, so inferred frequency MS will be used.\n",
      "  self._init_dates(dates, freq)\n"
     ]
    },
    {
     "name": "stdout",
     "output_type": "stream",
     "text": [
      "                               SARIMAX Results                                \n",
      "==============================================================================\n",
      "Dep. Variable:          Monthly Sales   No. Observations:                  211\n",
      "Model:                 ARIMA(1, 1, 1)   Log Likelihood               -2500.119\n",
      "Date:                Fri, 10 Jan 2025   AIC                           5006.238\n",
      "Time:                        01:05:05   BIC                           5016.279\n",
      "Sample:                    01-01-2002   HQIC                          5010.297\n",
      "                         - 07-01-2019                                         \n",
      "Covariance Type:                  opg                                         \n",
      "==============================================================================\n",
      "                 coef    std err          z      P>|z|      [0.025      0.975]\n",
      "------------------------------------------------------------------------------\n",
      "ar.L1          0.1298      0.081      1.610      0.107      -0.028       0.288\n",
      "ma.L1         -0.9886      0.038    -25.681      0.000      -1.064      -0.913\n",
      "sigma2      1.476e+09   1.84e-12   8.03e+20      0.000    1.48e+09    1.48e+09\n",
      "===================================================================================\n",
      "Ljung-Box (L1) (Q):                   0.12   Jarque-Bera (JB):                 0.40\n",
      "Prob(Q):                              0.73   Prob(JB):                         0.82\n",
      "Heteroskedasticity (H):               0.98   Skew:                            -0.07\n",
      "Prob(H) (two-sided):                  0.94   Kurtosis:                         2.84\n",
      "===================================================================================\n",
      "\n",
      "Warnings:\n",
      "[1] Covariance matrix calculated using the outer product of gradients (complex-step).\n",
      "[2] Covariance matrix is singular or near-singular, with condition number 9.03e+36. Standard errors may be unstable.\n"
     ]
    }
   ],
   "source": [
    "arima_order = (1,1,1)\n",
    "\n",
    "print(\"Training ARIMA Model...\")\n",
    "arima_model = ARIMA(train, order=arima_order)\n",
    "arima_result1 = arima_model.fit()\n",
    "print(arima_result1.summary())"
   ]
  },
  {
   "cell_type": "markdown",
   "id": "fdc3898a-b6f9-4430-8376-67af0ba4c218",
   "metadata": {},
   "source": [
    "The ARIMA(1,1,1) model was trained on monthly sales data spanning from January 2002 to July 2019, with 211 observations. The results indicate:\n",
    "\n",
    "The autoregressive term (AR) has a coefficient of 0.1298 with a p-value of 0.107, suggesting it is not statistically significant. However, the moving average term (MA) shows a significant coefficient of -0.9886 with a p-value less than 0.001.\n",
    "\n",
    "The model's diagnostic tests (Ljung-Box, Jarque-Bera, and Heteroskedasticity) all show p-values > 0.05, indicating that the residuals are well-behaved - they are independently distributed, normally distributed, and have consistent variance.\n",
    "\n",
    "Based on the information criteria (AIC: 5006.238, BIC: 5016.279), and the diagnostic results, this ARIMA(1,1,1) specification appears to provide a reasonable fit to the data, though the high sigma2 value (1.476e+09) suggests considerable variability in the predictions."
   ]
  },
  {
   "cell_type": "code",
   "execution_count": 8,
   "id": "006b1439-e238-435f-8ec2-569e4c1b61ab",
   "metadata": {},
   "outputs": [
    {
     "name": "stdout",
     "output_type": "stream",
     "text": [
      "Training ARIMA Model...\n"
     ]
    },
    {
     "name": "stderr",
     "output_type": "stream",
     "text": [
      "C:\\Users\\Promise Sunday\\AppData\\Local\\Programs\\Python\\Python312\\Lib\\site-packages\\statsmodels\\tsa\\base\\tsa_model.py:473: ValueWarning: No frequency information was provided, so inferred frequency MS will be used.\n",
      "  self._init_dates(dates, freq)\n",
      "C:\\Users\\Promise Sunday\\AppData\\Local\\Programs\\Python\\Python312\\Lib\\site-packages\\statsmodels\\tsa\\base\\tsa_model.py:473: ValueWarning: No frequency information was provided, so inferred frequency MS will be used.\n",
      "  self._init_dates(dates, freq)\n",
      "C:\\Users\\Promise Sunday\\AppData\\Local\\Programs\\Python\\Python312\\Lib\\site-packages\\statsmodels\\tsa\\base\\tsa_model.py:473: ValueWarning: No frequency information was provided, so inferred frequency MS will be used.\n",
      "  self._init_dates(dates, freq)\n"
     ]
    },
    {
     "name": "stdout",
     "output_type": "stream",
     "text": [
      "                               SARIMAX Results                                \n",
      "==============================================================================\n",
      "Dep. Variable:          Monthly Sales   No. Observations:                  211\n",
      "Model:                 ARIMA(0, 1, 1)   Log Likelihood               -2501.591\n",
      "Date:                Fri, 10 Jan 2025   AIC                           5007.183\n",
      "Time:                        01:05:06   BIC                           5013.877\n",
      "Sample:                    01-01-2002   HQIC                          5009.889\n",
      "                         - 07-01-2019                                         \n",
      "Covariance Type:                  opg                                         \n",
      "==============================================================================\n",
      "                 coef    std err          z      P>|z|      [0.025      0.975]\n",
      "------------------------------------------------------------------------------\n",
      "ma.L1         -0.9854      0.033    -29.777      0.000      -1.050      -0.921\n",
      "sigma2      1.477e+09   3.48e-13   4.24e+21      0.000    1.48e+09    1.48e+09\n",
      "===================================================================================\n",
      "Ljung-Box (L1) (Q):                   2.76   Jarque-Bera (JB):                 0.65\n",
      "Prob(Q):                              0.10   Prob(JB):                         0.72\n",
      "Heteroskedasticity (H):               0.99   Skew:                            -0.10\n",
      "Prob(H) (two-sided):                  0.98   Kurtosis:                         2.81\n",
      "===================================================================================\n",
      "\n",
      "Warnings:\n",
      "[1] Covariance matrix calculated using the outer product of gradients (complex-step).\n",
      "[2] Covariance matrix is singular or near-singular, with condition number    inf. Standard errors may be unstable.\n"
     ]
    }
   ],
   "source": [
    "arima_order = (0,1,1)\n",
    "\n",
    "print(\"Training ARIMA Model...\")\n",
    "arima_model = ARIMA(train, order=arima_order)\n",
    "arima_result2 = arima_model.fit()\n",
    "print(arima_result2.summary())"
   ]
  },
  {
   "cell_type": "markdown",
   "id": "f8ebee6a-b215-4806-8c3e-80e12a4647eb",
   "metadata": {},
   "source": [
    "This simplified model (removing the AR term) shows very similar performance to the previous one. The MA coefficient (-0.9854) remains highly significant (p-value < 0.001) and is almost identical to before. The AIC (5007.183) is only slightly higher than the previous model's AIC (5006.238), suggesting that removing the AR term didn't hurt the model's performance much. The diagnostic tests (Ljung-Box, Jarque-Bera, and Heteroskedasticity) all still show p-values > 0.05, indicating well-behaved residuals.\n",
    "Since the simpler model performs almost as well as the more complex one, it might be preferable to stick with this ARIMA(0,1,1) model following the principle of parsimony - using the simplest model that adequately explains the data."
   ]
  },
  {
   "cell_type": "code",
   "execution_count": 9,
   "id": "9fabcd08-0596-4e6d-8aa7-bf638c4b891d",
   "metadata": {},
   "outputs": [
    {
     "data": {
      "text/plain": [
       "2002-01-01         0.000000\n",
       "2002-02-01     54320.526053\n",
       "2002-03-01     79357.442893\n",
       "2002-04-01     88220.563197\n",
       "2002-05-01     84919.315454\n",
       "                  ...      \n",
       "2019-03-01    111723.276275\n",
       "2019-04-01    112983.067467\n",
       "2019-05-01    113343.412567\n",
       "2019-06-01    113645.004955\n",
       "2019-07-01    113762.000265\n",
       "Freq: MS, Name: predicted_mean, Length: 211, dtype: float64"
      ]
     },
     "execution_count": 9,
     "metadata": {},
     "output_type": "execute_result"
    }
   ],
   "source": [
    "arima_forecast = arima_result2.predict(steps=len(test))\n",
    "arima_forecast                                     "
   ]
  },
  {
   "cell_type": "code",
   "execution_count": 10,
   "id": "afb8c8c9-48fa-4271-b750-ed055beec7e4",
   "metadata": {},
   "outputs": [
    {
     "data": {
      "image/png": "[encoded data removed]",
      "text/plain": [
       "<Figure size 1200x600 with 1 Axes>"
      ]
     },
     "metadata": {},
     "output_type": "display_data"
    }
   ],
   "source": [
    "# Plot predictions and actual values\n",
    "plt.figure(figsize=(12, 6))\n",
    "plt.plot(arima_forecast, label='Forecast', color='red')\n",
    "plt.plot(test, label='Actual', color='blue')\n",
    "plt.title('ARIMA: Forecast vs Actual Values')\n",
    "plt.xlabel('Date')\n",
    "plt.ylabel('Values')\n",
    "plt.legend()\n",
    "plt.grid(True)\n",
    "plt.show()"
   ]
  },
  {
   "cell_type": "markdown",
   "id": "a46dd1c1-cc1c-49a3-a496-25abf7af1b21",
   "metadata": {},
   "source": [
    "### Forecasting with ARIMA"
   ]
  },
  {
   "cell_type": "code",
   "execution_count": 11,
   "id": "5e82ff1b-496f-4a6e-a7cf-a6c8f4949651",
   "metadata": {},
   "outputs": [],
   "source": [
    "arima_forecast = arima_result2.forecast(steps=len(test))"
   ]
  },
  {
   "cell_type": "code",
   "execution_count": 12,
   "id": "af044eaa-9104-4cc4-9a38-43813e662aea",
   "metadata": {},
   "outputs": [
    {
     "data": {
      "text/plain": [
       "117379.05660377358"
      ]
     },
     "execution_count": 12,
     "metadata": {},
     "output_type": "execute_result"
    }
   ],
   "source": [
    "test.mean()"
   ]
  },
  {
   "cell_type": "code",
   "execution_count": 13,
   "id": "dd55b7d9-08ad-4191-96b7-3a3bb8040e20",
   "metadata": {
    "scrolled": true
   },
   "outputs": [
    {
     "name": "stdout",
     "output_type": "stream",
     "text": [
      "ARIMA RMSE: 29820.49\n"
     ]
    }
   ],
   "source": [
    "# Evaluate ARIMA Model\n",
    "arima_rmse = np.sqrt(mean_squared_error(test, arima_forecast))\n",
    "print(f\"ARIMA RMSE: {arima_rmse:.2f}\")"
   ]
  },
  {
   "cell_type": "markdown",
   "id": "db6628c2-198b-4b8f-baf5-dd96f6f2551c",
   "metadata": {},
   "source": [
    "#### Re-train the model on the entire data"
   ]
  },
  {
   "cell_type": "code",
   "execution_count": 14,
   "id": "064bc88d-56c6-4e4a-9641-2ca6c0c48ee3",
   "metadata": {},
   "outputs": [
    {
     "name": "stdout",
     "output_type": "stream",
     "text": [
      "Training ARIMA Model...\n"
     ]
    },
    {
     "name": "stderr",
     "output_type": "stream",
     "text": [
      "C:\\Users\\Promise Sunday\\AppData\\Local\\Programs\\Python\\Python312\\Lib\\site-packages\\statsmodels\\tsa\\base\\tsa_model.py:473: ValueWarning: No frequency information was provided, so inferred frequency MS will be used.\n",
      "  self._init_dates(dates, freq)\n",
      "C:\\Users\\Promise Sunday\\AppData\\Local\\Programs\\Python\\Python312\\Lib\\site-packages\\statsmodels\\tsa\\base\\tsa_model.py:473: ValueWarning: No frequency information was provided, so inferred frequency MS will be used.\n",
      "  self._init_dates(dates, freq)\n",
      "C:\\Users\\Promise Sunday\\AppData\\Local\\Programs\\Python\\Python312\\Lib\\site-packages\\statsmodels\\tsa\\base\\tsa_model.py:473: ValueWarning: No frequency information was provided, so inferred frequency MS will be used.\n",
      "  self._init_dates(dates, freq)\n"
     ]
    },
    {
     "name": "stdout",
     "output_type": "stream",
     "text": [
      "                               SARIMAX Results                                \n",
      "==============================================================================\n",
      "Dep. Variable:          Monthly Sales   No. Observations:                  264\n",
      "Model:                 ARIMA(0, 1, 1)   Log Likelihood               -3124.590\n",
      "Date:                Fri, 10 Jan 2025   AIC                           6253.180\n",
      "Time:                        01:05:08   BIC                           6260.324\n",
      "Sample:                    01-01-2002   HQIC                          6256.051\n",
      "                         - 12-01-2023                                         \n",
      "Covariance Type:                  opg                                         \n",
      "==============================================================================\n",
      "                 coef    std err          z      P>|z|      [0.025      0.975]\n",
      "------------------------------------------------------------------------------\n",
      "ma.L1         -0.9843      0.022    -43.890      0.000      -1.028      -0.940\n",
      "sigma2      1.396e+09   3.79e-14   3.69e+22      0.000     1.4e+09     1.4e+09\n",
      "===================================================================================\n",
      "Ljung-Box (L1) (Q):                   4.68   Jarque-Bera (JB):                 0.21\n",
      "Prob(Q):                              0.03   Prob(JB):                         0.90\n",
      "Heteroskedasticity (H):               0.73   Skew:                            -0.03\n",
      "Prob(H) (two-sided):                  0.14   Kurtosis:                         2.88\n",
      "===================================================================================\n",
      "\n",
      "Warnings:\n",
      "[1] Covariance matrix calculated using the outer product of gradients (complex-step).\n",
      "[2] Covariance matrix is singular or near-singular, with condition number    inf. Standard errors may be unstable.\n"
     ]
    },
    {
     "data": {
      "text/html": [
       "<div>\n",
       "<style scoped>\n",
       "    .dataframe tbody tr th:only-of-type {\n",
       "        vertical-align: middle;\n",
       "    }\n",
       "\n",
       "    .dataframe tbody tr th {\n",
       "        vertical-align: top;\n",
       "    }\n",
       "\n",
       "    .dataframe thead th {\n",
       "        text-align: right;\n",
       "    }\n",
       "</style>\n",
       "<table border=\"1\" class=\"dataframe\">\n",
       "  <thead>\n",
       "    <tr style=\"text-align: right;\">\n",
       "      <th></th>\n",
       "      <th>Category</th>\n",
       "      <th>Month</th>\n",
       "      <th>Monthly Sales</th>\n",
       "      <th>Year</th>\n",
       "      <th>DayOfWeek</th>\n",
       "      <th>Platform</th>\n",
       "      <th>Holiday</th>\n",
       "      <th>Promotion</th>\n",
       "      <th>Quarter</th>\n",
       "    </tr>\n",
       "    <tr>\n",
       "      <th>Date</th>\n",
       "      <th></th>\n",
       "      <th></th>\n",
       "      <th></th>\n",
       "      <th></th>\n",
       "      <th></th>\n",
       "      <th></th>\n",
       "      <th></th>\n",
       "      <th></th>\n",
       "      <th></th>\n",
       "    </tr>\n",
       "  </thead>\n",
       "  <tbody>\n",
       "    <tr>\n",
       "      <th>2023-08-01</th>\n",
       "      <td>RPG</td>\n",
       "      <td>8</td>\n",
       "      <td>132693</td>\n",
       "      <td>2023</td>\n",
       "      <td>1</td>\n",
       "      <td>PC</td>\n",
       "      <td>0</td>\n",
       "      <td>0</td>\n",
       "      <td>3</td>\n",
       "    </tr>\n",
       "    <tr>\n",
       "      <th>2023-09-01</th>\n",
       "      <td>Simulation</td>\n",
       "      <td>9</td>\n",
       "      <td>143373</td>\n",
       "      <td>2023</td>\n",
       "      <td>4</td>\n",
       "      <td>Nintendo</td>\n",
       "      <td>0</td>\n",
       "      <td>0</td>\n",
       "      <td>3</td>\n",
       "    </tr>\n",
       "    <tr>\n",
       "      <th>2023-10-01</th>\n",
       "      <td>Simulation</td>\n",
       "      <td>10</td>\n",
       "      <td>126410</td>\n",
       "      <td>2023</td>\n",
       "      <td>6</td>\n",
       "      <td>Nintendo</td>\n",
       "      <td>0</td>\n",
       "      <td>1</td>\n",
       "      <td>4</td>\n",
       "    </tr>\n",
       "    <tr>\n",
       "      <th>2023-11-01</th>\n",
       "      <td>Simulation</td>\n",
       "      <td>11</td>\n",
       "      <td>91200</td>\n",
       "      <td>2023</td>\n",
       "      <td>2</td>\n",
       "      <td>Nintendo</td>\n",
       "      <td>0</td>\n",
       "      <td>0</td>\n",
       "      <td>4</td>\n",
       "    </tr>\n",
       "    <tr>\n",
       "      <th>2023-12-01</th>\n",
       "      <td>RPG</td>\n",
       "      <td>12</td>\n",
       "      <td>159721</td>\n",
       "      <td>2023</td>\n",
       "      <td>4</td>\n",
       "      <td>Nintendo</td>\n",
       "      <td>1</td>\n",
       "      <td>0</td>\n",
       "      <td>4</td>\n",
       "    </tr>\n",
       "  </tbody>\n",
       "</table>\n",
       "</div>"
      ],
      "text/plain": [
       "              Category  Month  Monthly Sales  Year  DayOfWeek  Platform  \\\n",
       "Date                                                                      \n",
       "2023-08-01         RPG      8         132693  2023          1        PC   \n",
       "2023-09-01  Simulation      9         143373  2023          4  Nintendo   \n",
       "2023-10-01  Simulation     10         126410  2023          6  Nintendo   \n",
       "2023-11-01  Simulation     11          91200  2023          2  Nintendo   \n",
       "2023-12-01         RPG     12         159721  2023          4  Nintendo   \n",
       "\n",
       "            Holiday  Promotion  Quarter  \n",
       "Date                                     \n",
       "2023-08-01        0          0        3  \n",
       "2023-09-01        0          0        3  \n",
       "2023-10-01        0          1        4  \n",
       "2023-11-01        0          0        4  \n",
       "2023-12-01        1          0        4  "
      ]
     },
     "execution_count": 14,
     "metadata": {},
     "output_type": "execute_result"
    }
   ],
   "source": [
    "arima_order = (0, 1, 1)\n",
    "\n",
    "print(\"Training ARIMA Model...\")\n",
    "arima_model = ARIMA(data['Monthly Sales'], order=arima_order)\n",
    "model = arima_model.fit()\n",
    "print(model.summary())\n",
    "\n",
    "data.tail()"
   ]
  },
  {
   "cell_type": "code",
   "execution_count": 27,
   "id": "c24bd89b-cbc9-46d8-bf34-c7d042440e8c",
   "metadata": {},
   "outputs": [
    {
     "name": "stdout",
     "output_type": "stream",
     "text": [
      "                 Date  Predicted_Sales\n",
      "2024-01-01 2024-01-01    116539.638359\n",
      "2024-02-01 2024-02-01    116539.638359\n",
      "2024-03-01 2024-03-01    116539.638359\n",
      "2024-04-01 2024-04-01    116539.638359\n"
     ]
    }
   ],
   "source": [
    "# Get forecast for next 4 months\n",
    "forecast = model.forecast(steps=4)\n",
    "\n",
    "# Get forecast dates\n",
    "forecast_dates = pd.date_range(start='2024-01-01', periods=4, freq='MS')\n",
    "\n",
    "# Combine into a dataframe\n",
    "forecast_df = pd.DataFrame({'Date': forecast_dates, 'Predicted_Sales': forecast})\n",
    "print(forecast_df)"
   ]
  },
  {
   "cell_type": "code",
   "execution_count": 16,
   "id": "187e69c2-a195-4317-ba65-be53707ea625",
   "metadata": {},
   "outputs": [
    {
     "name": "stdout",
     "output_type": "stream",
     "text": [
      "Model saved as arima_model.pkl\n",
      "Test prediction: 116539.64\n"
     ]
    },
    {
     "name": "stderr",
     "output_type": "stream",
     "text": [
      "C:\\Users\\Promise Sunday\\AppData\\Local\\Temp\\ipykernel_10304\\236564631.py:13: FutureWarning: Series.__getitem__ treating keys as positions is deprecated. In a future version, integer keys will always be treated as labels (consistent with DataFrame behavior). To access a value by position, use `ser.iloc[pos]`\n",
      "  print(f\"Test prediction: {forecast[0]:.2f}\")\n"
     ]
    }
   ],
   "source": [
    "import pickle\n",
    "\n",
    "# Save model\n",
    "with open('arima_model.pkl', 'wb') as file:\n",
    "    pickle.dump(model, file)\n",
    "\n",
    "print(\"Model saved as arima_model.pkl\")\n",
    "\n",
    "# Quick verification\n",
    "with open('arima_model.pkl', 'rb') as file:\n",
    "    loaded_model = pickle.load(file)\n",
    "    forecast = loaded_model.forecast(steps=1)\n",
    "    print(f\"Test prediction: {forecast[0]:.2f}\")"
   ]
  },
  {
   "cell_type": "code",
   "execution_count": null,
   "id": "b96ecd56-43b3-436b-9c84-8e7c82f90adb",
   "metadata": {},
   "outputs": [],
   "source": []
  },
  {
   "cell_type": "code",
   "execution_count": null,
   "id": "2af540f1-9eb6-4ad5-ab87-f545ff3c073b",
   "metadata": {},
   "outputs": [],
   "source": []
  },
  {
   "cell_type": "markdown",
   "id": "04f098bb-fd30-464e-9a25-ff1c4a1993e2",
   "metadata": {},
   "source": [
    "### ETS Model Fitting"
   ]
  },
  {
   "cell_type": "code",
   "execution_count": 17,
   "id": "24232b11-537f-4465-b873-f87390fc620e",
   "metadata": {},
   "outputs": [
    {
     "name": "stderr",
     "output_type": "stream",
     "text": [
      "C:\\Users\\Promise Sunday\\AppData\\Local\\Programs\\Python\\Python312\\Lib\\site-packages\\statsmodels\\tsa\\holtwinters\\model.py:917: ConvergenceWarning: Optimization failed to converge. Check mle_retvals.\n",
      "  warnings.warn(\n"
     ]
    },
    {
     "data": {
      "text/html": [
       "<table class=\"simpletable\">\n",
       "<caption>ExponentialSmoothing Model Results</caption>\n",
       "<tr>\n",
       "  <th>Dep. Variable:</th>        <td>Monthly Sales</td>    <th>  No. Observations:  </th>        <td>264</td>      \n",
       "</tr>\n",
       "<tr>\n",
       "  <th>Model:</th>            <td>ExponentialSmoothing</td> <th>  SSE                </th> <td>279786833636.322</td>\n",
       "</tr>\n",
       "<tr>\n",
       "  <th>Optimized:</th>                <td>True</td>         <th>  AIC                </th>     <td>5518.275</td>    \n",
       "</tr>\n",
       "<tr>\n",
       "  <th>Trend:</th>                  <td>Additive</td>       <th>  BIC                </th>     <td>5575.490</td>    \n",
       "</tr>\n",
       "<tr>\n",
       "  <th>Seasonal:</th>               <td>Additive</td>       <th>  AICC               </th>     <td>5521.067</td>    \n",
       "</tr>\n",
       "<tr>\n",
       "  <th>Seasonal Periods:</th>          <td>12</td>          <th>  Date:              </th> <td>Fri, 10 Jan 2025</td>\n",
       "</tr>\n",
       "<tr>\n",
       "  <th>Box-Cox:</th>                  <td>False</td>        <th>  Time:              </th>     <td>01:05:08</td>    \n",
       "</tr>\n",
       "<tr>\n",
       "  <th>Box-Cox Coeff.:</th>           <td>None</td>         <th>                     </th>         <td> </td>       \n",
       "</tr>\n",
       "</table>\n",
       "<table class=\"simpletable\">\n",
       "<tr>\n",
       "           <td></td>                  <th>coeff</th>                <th>code</th>               <th>optimized</th>     \n",
       "</tr>\n",
       "<tr>\n",
       "  <th>smoothing_level</th>    <td>           0.0757143</td> <td>               alpha</td> <td>                True</td>\n",
       "</tr>\n",
       "<tr>\n",
       "  <th>smoothing_trend</th>    <td>           0.0324490</td> <td>                beta</td> <td>                True</td>\n",
       "</tr>\n",
       "<tr>\n",
       "  <th>smoothing_seasonal</th> <td>           0.1026984</td> <td>               gamma</td> <td>                True</td>\n",
       "</tr>\n",
       "<tr>\n",
       "  <th>initial_level</th>      <td>           98789.753</td> <td>                 l.0</td> <td>                True</td>\n",
       "</tr>\n",
       "<tr>\n",
       "  <th>initial_trend</th>      <td>           1463.3692</td> <td>                 b.0</td> <td>                True</td>\n",
       "</tr>\n",
       "<tr>\n",
       "  <th>initial_seasons.0</th>  <td>           10696.346</td> <td>                 s.0</td> <td>                True</td>\n",
       "</tr>\n",
       "<tr>\n",
       "  <th>initial_seasons.1</th>  <td>           20686.857</td> <td>                 s.1</td> <td>                True</td>\n",
       "</tr>\n",
       "<tr>\n",
       "  <th>initial_seasons.2</th>  <td>           10724.159</td> <td>                 s.2</td> <td>                True</td>\n",
       "</tr>\n",
       "<tr>\n",
       "  <th>initial_seasons.3</th>  <td>           13708.680</td> <td>                 s.3</td> <td>                True</td>\n",
       "</tr>\n",
       "<tr>\n",
       "  <th>initial_seasons.4</th>  <td>           22904.638</td> <td>                 s.4</td> <td>                True</td>\n",
       "</tr>\n",
       "<tr>\n",
       "  <th>initial_seasons.5</th>  <td>           4771.3047</td> <td>                 s.5</td> <td>                True</td>\n",
       "</tr>\n",
       "<tr>\n",
       "  <th>initial_seasons.6</th>  <td>           4893.2214</td> <td>                 s.6</td> <td>                True</td>\n",
       "</tr>\n",
       "<tr>\n",
       "  <th>initial_seasons.7</th>  <td>          -33444.581</td> <td>                 s.7</td> <td>                True</td>\n",
       "</tr>\n",
       "<tr>\n",
       "  <th>initial_seasons.8</th>  <td>          -1068.0911</td> <td>                 s.8</td> <td>                True</td>\n",
       "</tr>\n",
       "<tr>\n",
       "  <th>initial_seasons.9</th>  <td>          -29562.987</td> <td>                 s.9</td> <td>                True</td>\n",
       "</tr>\n",
       "<tr>\n",
       "  <th>initial_seasons.10</th> <td>          -1151.9349</td> <td>                s.10</td> <td>                True</td>\n",
       "</tr>\n",
       "<tr>\n",
       "  <th>initial_seasons.11</th> <td>          -23157.612</td> <td>                s.11</td> <td>                True</td>\n",
       "</tr>\n",
       "</table>"
      ],
      "text/latex": [
       "\\begin{center}\n",
       "\\begin{tabular}{lclc}\n",
       "\\toprule\n",
       "\\textbf{Dep. Variable:}      &    Monthly Sales     & \\textbf{  No. Observations:  } &         264           \\\\\n",
       "\\textbf{Model:}              & ExponentialSmoothing & \\textbf{  SSE                } &   279786833636.322    \\\\\n",
       "\\textbf{Optimized:}          &         True         & \\textbf{  AIC                } &       5518.275        \\\\\n",
       "\\textbf{Trend:}              &       Additive       & \\textbf{  BIC                } &       5575.490        \\\\\n",
       "\\textbf{Seasonal:}           &       Additive       & \\textbf{  AICC               } &       5521.067        \\\\\n",
       "\\textbf{Seasonal Periods:}   &          12          & \\textbf{  Date:              } &   Fri, 10 Jan 2025    \\\\\n",
       "\\textbf{Box-Cox:}            &        False         & \\textbf{  Time:              } &       01:05:08        \\\\\n",
       "\\textbf{Box-Cox Coeff.:}     &         None         & \\textbf{                     } &                       \\\\\n",
       "\\bottomrule\n",
       "\\end{tabular}\n",
       "\\begin{tabular}{lccc}\n",
       "                             &    \\textbf{coeff}    &    \\textbf{code}     &  \\textbf{optimized}   \\\\\n",
       "\\midrule\n",
       "\\textbf{smoothing\\_level}    &            0.0757143 &                alpha &                 True  \\\\\n",
       "\\textbf{smoothing\\_trend}    &            0.0324490 &                 beta &                 True  \\\\\n",
       "\\textbf{smoothing\\_seasonal} &            0.1026984 &                gamma &                 True  \\\\\n",
       "\\textbf{initial\\_level}      &            98789.753 &                  l.0 &                 True  \\\\\n",
       "\\textbf{initial\\_trend}      &            1463.3692 &                  b.0 &                 True  \\\\\n",
       "\\textbf{initial\\_seasons.0}  &            10696.346 &                  s.0 &                 True  \\\\\n",
       "\\textbf{initial\\_seasons.1}  &            20686.857 &                  s.1 &                 True  \\\\\n",
       "\\textbf{initial\\_seasons.2}  &            10724.159 &                  s.2 &                 True  \\\\\n",
       "\\textbf{initial\\_seasons.3}  &            13708.680 &                  s.3 &                 True  \\\\\n",
       "\\textbf{initial\\_seasons.4}  &            22904.638 &                  s.4 &                 True  \\\\\n",
       "\\textbf{initial\\_seasons.5}  &            4771.3047 &                  s.5 &                 True  \\\\\n",
       "\\textbf{initial\\_seasons.6}  &            4893.2214 &                  s.6 &                 True  \\\\\n",
       "\\textbf{initial\\_seasons.7}  &           -33444.581 &                  s.7 &                 True  \\\\\n",
       "\\textbf{initial\\_seasons.8}  &           -1068.0911 &                  s.8 &                 True  \\\\\n",
       "\\textbf{initial\\_seasons.9}  &           -29562.987 &                  s.9 &                 True  \\\\\n",
       "\\textbf{initial\\_seasons.10} &           -1151.9349 &                 s.10 &                 True  \\\\\n",
       "\\textbf{initial\\_seasons.11} &           -23157.612 &                 s.11 &                 True  \\\\\n",
       "\\bottomrule\n",
       "\\end{tabular}\n",
       "%\\caption{ExponentialSmoothing Model Results}\n",
       "\\end{center}"
      ],
      "text/plain": [
       "<class 'statsmodels.iolib.summary.Summary'>\n",
       "\"\"\"\n",
       "                       ExponentialSmoothing Model Results                       \n",
       "================================================================================\n",
       "Dep. Variable:            Monthly Sales   No. Observations:                  264\n",
       "Model:             ExponentialSmoothing   SSE                   279786833636.322\n",
       "Optimized:                         True   AIC                           5518.275\n",
       "Trend:                         Additive   BIC                           5575.490\n",
       "Seasonal:                      Additive   AICC                          5521.067\n",
       "Seasonal Periods:                    12   Date:                 Fri, 10 Jan 2025\n",
       "Box-Cox:                          False   Time:                         01:05:08\n",
       "Box-Cox Coeff.:                    None                                         \n",
       "=================================================================================\n",
       "                          coeff                 code              optimized      \n",
       "---------------------------------------------------------------------------------\n",
       "smoothing_level               0.0757143                alpha                 True\n",
       "smoothing_trend               0.0324490                 beta                 True\n",
       "smoothing_seasonal            0.1026984                gamma                 True\n",
       "initial_level                 98789.753                  l.0                 True\n",
       "initial_trend                 1463.3692                  b.0                 True\n",
       "initial_seasons.0             10696.346                  s.0                 True\n",
       "initial_seasons.1             20686.857                  s.1                 True\n",
       "initial_seasons.2             10724.159                  s.2                 True\n",
       "initial_seasons.3             13708.680                  s.3                 True\n",
       "initial_seasons.4             22904.638                  s.4                 True\n",
       "initial_seasons.5             4771.3047                  s.5                 True\n",
       "initial_seasons.6             4893.2214                  s.6                 True\n",
       "initial_seasons.7            -33444.581                  s.7                 True\n",
       "initial_seasons.8            -1068.0911                  s.8                 True\n",
       "initial_seasons.9            -29562.987                  s.9                 True\n",
       "initial_seasons.10           -1151.9349                 s.10                 True\n",
       "initial_seasons.11           -23157.612                 s.11                 True\n",
       "---------------------------------------------------------------------------------\n",
       "\"\"\""
      ]
     },
     "execution_count": 17,
     "metadata": {},
     "output_type": "execute_result"
    }
   ],
   "source": [
    "# Create the time series with explicit frequency\n",
    "train = data['Monthly Sales'].asfreq('MS')  # MS means Month Start frequency\n",
    "\n",
    "# fit the ETS model\n",
    "ets_model = ExponentialSmoothing(train, \n",
    "                                trend=\"additive\", \n",
    "                                seasonal=\"additive\", \n",
    "                                seasonal_periods=12)\n",
    "ets_result = ets_model.fit(optimized=True)\n",
    "\n",
    "ets_result.summary()"
   ]
  },
  {
   "cell_type": "markdown",
   "id": "da2067fc-5249-4f99-aa32-c97d9ae272ab",
   "metadata": {},
   "source": [
    "The Exponential Smoothing model was fitted with additive trend and seasonal components, using 264 observations of Monthly Sales data. Here's what's notable:\n",
    "The smoothing parameters show:\n",
    "\n",
    "Level (alpha): 0.0757 - indicates slow adaptation to level changes\n",
    "Trend (beta): 0.0324 - suggests very gradual trend adjustments\n",
    "Seasonal (gamma): 0.1027 - shows moderate seasonal pattern updates\n",
    "\n",
    "The model captured initial conditions:\n",
    "\n",
    "Starting level: 98,789.75\n",
    "Initial trend: 1,463.37\n",
    "Seasonal patterns vary significantly across months, from lowest at -33,444.58 (August) to highest at 22,904.64 (May)\n",
    "\n",
    "The model's fit statistics:\n",
    "\n",
    "AIC: 5518.275\n",
    "BIC: 5575.490\n",
    "SSE: 279,786,833,636.322\n",
    "\n",
    "The low smoothing parameters suggest the model is quite stable, giving more weight to historical patterns than recent changes. The seasonal indices show strong monthly variations in your sales data."
   ]
  },
  {
   "cell_type": "code",
   "execution_count": 18,
   "id": "b8b5c933-7bc9-4c3d-abd7-95a3fe9e1a4d",
   "metadata": {},
   "outputs": [
    {
     "data": {
      "text/plain": [
       "2024-01-01    136326.011144\n",
       "2024-02-01    149240.396089\n",
       "2024-03-01    138353.306471\n",
       "2024-04-01    133345.208205\n",
       "2024-05-01    135505.539233\n",
       "Freq: MS, dtype: float64"
      ]
     },
     "execution_count": 18,
     "metadata": {},
     "output_type": "execute_result"
    }
   ],
   "source": [
    "# Forecasting with ETS\n",
    "ets_forecast = ets_result.forecast(steps=len(test))\n",
    "ets_forecast.head()"
   ]
  },
  {
   "cell_type": "code",
   "execution_count": 19,
   "id": "9a21c6f8-547b-40ac-b8b3-15c9f8a10c69",
   "metadata": {},
   "outputs": [
    {
     "name": "stdout",
     "output_type": "stream",
     "text": [
      "ETS RMSE: 38174.25\n"
     ]
    }
   ],
   "source": [
    "# Evaluate ETS Model\n",
    "ets_rmse = np.sqrt(mean_squared_error(test, ets_forecast))\n",
    "print(f\"ETS RMSE: {ets_rmse:.2f}\")"
   ]
  },
  {
   "cell_type": "markdown",
   "id": "ddff2ca2-55ec-4a26-bc91-01918d1057d4",
   "metadata": {},
   "source": [
    "### Compare Models"
   ]
  },
  {
   "cell_type": "code",
   "execution_count": 20,
   "id": "b3926ad6-6df3-4321-8643-dbdc7c28ae41",
   "metadata": {},
   "outputs": [
    {
     "name": "stdout",
     "output_type": "stream",
     "text": [
      "Model Comparison:\n",
      "ARIMA RMSE: 29820.49\n",
      "ETS RMSE: 38174.25\n"
     ]
    }
   ],
   "source": [
    "print(\"Model Comparison:\")\n",
    "print(f\"ARIMA RMSE: {arima_rmse:.2f}\")\n",
    "print(f\"ETS RMSE: {ets_rmse:.2f}\")"
   ]
  },
  {
   "cell_type": "code",
   "execution_count": null,
   "id": "062e9a90-fd4f-48e1-a9c3-f80dd9456fb4",
   "metadata": {},
   "outputs": [],
   "source": []
  },
  {
   "cell_type": "markdown",
   "id": "200e0ef7-f01c-4c51-ba7f-029461297e33",
   "metadata": {},
   "source": [
    "#### SARIMAX Model"
   ]
  },
  {
   "cell_type": "code",
   "execution_count": 21,
   "id": "83e91e1f-0fdd-4d8d-b71e-5d36e923a054",
   "metadata": {},
   "outputs": [],
   "source": [
    "from statsmodels.tsa.statespace.sarimax import SARIMAX"
   ]
  },
  {
   "cell_type": "code",
   "execution_count": 22,
   "id": "d5b1f960-791f-4938-8502-fbb8cd4db1f8",
   "metadata": {},
   "outputs": [
    {
     "name": "stdout",
     "output_type": "stream",
     "text": [
      "Training set size: 252 months\n",
      "Test set size: 12 months\n"
     ]
    }
   ],
   "source": [
    "# 1. First split the data\n",
    "train_size = len(data) - 12  # Save last 12 months for testing\n",
    "train = data[:train_size]\n",
    "test = data[train_size:]\n",
    "\n",
    "print(f\"Training set size: {len(train)} months\")\n",
    "print(f\"Test set size: {len(test)} months\")"
   ]
  },
  {
   "cell_type": "code",
   "execution_count": 23,
   "id": "5bfdee4e-7b0e-4953-bb4c-d1af075cb43f",
   "metadata": {},
   "outputs": [
    {
     "name": "stderr",
     "output_type": "stream",
     "text": [
      "C:\\Users\\Promise Sunday\\AppData\\Local\\Programs\\Python\\Python312\\Lib\\site-packages\\statsmodels\\tsa\\base\\tsa_model.py:473: ValueWarning: No frequency information was provided, so inferred frequency MS will be used.\n",
      "  self._init_dates(dates, freq)\n",
      "C:\\Users\\Promise Sunday\\AppData\\Local\\Programs\\Python\\Python312\\Lib\\site-packages\\statsmodels\\tsa\\base\\tsa_model.py:473: ValueWarning: No frequency information was provided, so inferred frequency MS will be used.\n",
      "  self._init_dates(dates, freq)\n",
      "C:\\Users\\Promise Sunday\\AppData\\Local\\Programs\\Python\\Python312\\Lib\\site-packages\\statsmodels\\tsa\\statespace\\sarimax.py:966: UserWarning: Non-stationary starting autoregressive parameters found. Using zeros as starting parameters.\n",
      "  warn('Non-stationary starting autoregressive parameters'\n",
      "C:\\Users\\Promise Sunday\\AppData\\Local\\Programs\\Python\\Python312\\Lib\\site-packages\\statsmodels\\tsa\\statespace\\sarimax.py:978: UserWarning: Non-invertible starting MA parameters found. Using zeros as starting parameters.\n",
      "  warn('Non-invertible starting MA parameters found.'\n"
     ]
    },
    {
     "name": "stdout",
     "output_type": "stream",
     "text": [
      "                                     SARIMAX Results                                      \n",
      "==========================================================================================\n",
      "Dep. Variable:                      Monthly Sales   No. Observations:                  252\n",
      "Model:             SARIMAX(1, 0, 1)x(0, 1, 1, 12)   Log Likelihood               -2857.849\n",
      "Date:                            Fri, 10 Jan 2025   AIC                           5723.698\n",
      "Time:                                    01:05:11   BIC                           5737.620\n",
      "Sample:                                01-01-2002   HQIC                          5729.308\n",
      "                                     - 12-01-2022                                         \n",
      "Covariance Type:                              opg                                         \n",
      "==============================================================================\n",
      "                 coef    std err          z      P>|z|      [0.025      0.975]\n",
      "------------------------------------------------------------------------------\n",
      "ar.L1          0.9914      0.012     85.930      0.000       0.969       1.014\n",
      "ma.L1         -0.8917      0.045    -19.646      0.000      -0.981      -0.803\n",
      "ma.S.L12      -0.8658      0.089     -9.704      0.000      -1.041      -0.691\n",
      "sigma2      1.919e+09   8.25e-12   2.33e+20      0.000    1.92e+09    1.92e+09\n",
      "===================================================================================\n",
      "Ljung-Box (L1) (Q):                   1.47   Jarque-Bera (JB):                 3.66\n",
      "Prob(Q):                              0.22   Prob(JB):                         0.16\n",
      "Heteroskedasticity (H):               0.73   Skew:                             0.28\n",
      "Prob(H) (two-sided):                  0.16   Kurtosis:                         3.23\n",
      "===================================================================================\n",
      "\n",
      "Warnings:\n",
      "[1] Covariance matrix calculated using the outer product of gradients (complex-step).\n",
      "[2] Covariance matrix is singular or near-singular, with condition number 2.13e+36. Standard errors may be unstable.\n"
     ]
    }
   ],
   "source": [
    "S_model = SARIMAX(train['Monthly Sales'],\n",
    "                  order=(1, 0, 1),            \n",
    "                  seasonal_order=(0, 1, 1, 12)\n",
    "                 )\n",
    "\n",
    "S_results = S_model.fit()\n",
    "print(S_results.summary())"
   ]
  },
  {
   "cell_type": "markdown",
   "id": "57d45a78-6397-44d5-9cfa-98f8fd63a188",
   "metadata": {},
   "source": [
    "SARIMA Model Analysis Results:\n",
    "\n",
    "The SARIMA(1,0,1)(0,1,1,12) model was fitted to monthly sales data from January 2002 to December 2022 (252 observations). The model shows strong performance with all coefficients being statistically significant at the 1% level:\n",
    "\n",
    "- The AR(1) coefficient of 0.9914 indicates a strong positive autoregressive relationship\n",
    "- The MA(1) coefficient of -0.8917 shows significant error correction\n",
    "- The seasonal MA(12) coefficient of -0.8658 captures strong yearly patterns\n",
    "\n",
    "Model diagnostics are highly satisfactory:\n",
    "- Ljung-Box test (p=0.22) confirms no residual autocorrelation\n",
    "- Jarque-Bera test (p=0.16) indicates normally distributed residuals\n",
    "- Heteroskedasticity test (p=0.16) shows consistent variance\n",
    "\n",
    "With AIC=5723.698 and BIC=5737.620, this model specification outperforms previous iterations, suggesting it's well-suited for forecasting our monthly sales data."
   ]
  },
  {
   "cell_type": "code",
   "execution_count": null,
   "id": "38a226c8-c6da-4d26-a9a9-4277ae13d26f",
   "metadata": {},
   "outputs": [],
   "source": []
  },
  {
   "cell_type": "code",
   "execution_count": null,
   "id": "9d874582-3154-4847-b1e8-d3689012b2ca",
   "metadata": {},
   "outputs": [],
   "source": []
  }
 ],
 "metadata": {
  "kernelspec": {
   "display_name": "Python 3 (ipykernel)",
   "language": "python",
   "name": "python3"
  },
  "language_info": {
   "codemirror_mode": {
    "name": "ipython",
    "version": 3
   },
   "file_extension": ".py",
   "mimetype": "text/x-python",
   "name": "python",
   "nbconvert_exporter": "python",
   "pygments_lexer": "ipython3",
   "version": "3.12.8"
  }
 },
 "nbformat": 4,
 "nbformat_minor": 5
}
